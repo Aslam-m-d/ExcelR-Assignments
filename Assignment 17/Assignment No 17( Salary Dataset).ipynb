{
 "cells": [
  {
   "cell_type": "markdown",
   "id": "f2f1a37b-02e2-433c-9ed0-b62ed4aeca77",
   "metadata": {},
   "source": [
    "# Support Vector Machines Assignment"
   ]
  },
  {
   "cell_type": "code",
   "execution_count": null,
   "id": "38afb420-62b1-4eb4-848c-d57daf5664e0",
   "metadata": {},
   "outputs": [],
   "source": [
    "import pandas as pd\n",
    "import numpy as np\n",
    "import seaborn as sns\n",
    "import matplotlib.pyplot as plt\n",
    "\n",
    "from sklearn.svm import SVC\n",
    "from sklearn.model_selection import train_test_split, cross_val_score, GridSearchCV\n",
    "from sklearn.metrics import classification_report, accuracy_score, confusion_matrix"
   ]
  },
  {
   "cell_type": "markdown",
   "id": "5f4b86f7-4c01-4e8f-8cbd-3ab3e5140ac7",
   "metadata": {},
   "source": [
    "## 2. Salary Dataset"
   ]
  },
  {
   "cell_type": "code",
   "execution_count": null,
   "id": "c29303a0-996d-4243-b77b-d514b60110f0",
   "metadata": {},
   "outputs": [],
   "source": [
    "s1_train = pd.read_csv('SalaryData_Train(1).csv')\n",
    "s1_train"
   ]
  },
  {
   "cell_type": "code",
   "execution_count": null,
   "id": "1349b011-60af-4090-9a63-1753ef53fee7",
   "metadata": {},
   "outputs": [],
   "source": [
    "salary_train = s1_train.drop_duplicates()\n",
    "salary_train\n",
    "import warnings\n",
    "warnings.filterwarnings('ignore')"
   ]
  },
  {
   "cell_type": "markdown",
   "id": "0872c500-0999-4dfb-8404-089fbff56da7",
   "metadata": {},
   "source": [
    "#### Label Encoding"
   ]
  },
  {
   "cell_type": "code",
   "execution_count": null,
   "id": "c8a8dec7-25eb-4575-90a5-64681939f72e",
   "metadata": {},
   "outputs": [],
   "source": [
    "from sklearn import preprocessing\n",
    "label_encoder = preprocessing.LabelEncoder()\n",
    "salary_train['workclass']= label_encoder.fit_transform(salary_train['workclass']) \n",
    "salary_train['education']= label_encoder.fit_transform(salary_train['education'])\n",
    "salary_train['maritalstatus']= label_encoder.fit_transform(salary_train['maritalstatus'])\n",
    "salary_train['occupation']= label_encoder.fit_transform(salary_train['occupation'])\n",
    "salary_train['relationship']= label_encoder.fit_transform(salary_train['relationship'])\n",
    "salary_train['race']= label_encoder.fit_transform(salary_train['race'])\n",
    "salary_train['sex']= label_encoder.fit_transform(salary_train['sex'])\n",
    "salary_train['native']= label_encoder.fit_transform(salary_train['native'])\n",
    "salary_train['Salary']= label_encoder.fit_transform(salary_train['Salary'])"
   ]
  },
  {
   "cell_type": "code",
   "execution_count": null,
   "id": "2c000f17-db6e-4b1d-9457-1c33445c9ab8",
   "metadata": {},
   "outputs": [],
   "source": [
    "salary_train"
   ]
  },
  {
   "cell_type": "code",
   "execution_count": null,
   "id": "816d6848-0c78-403c-b293-b55add3a2101",
   "metadata": {},
   "outputs": [],
   "source": [
    "salary_train.info()"
   ]
  },
  {
   "cell_type": "code",
   "execution_count": null,
   "id": "3f18780f-046b-4fbd-a391-a0d42a9abf5d",
   "metadata": {},
   "outputs": [],
   "source": [
    "salary_train.shape"
   ]
  },
  {
   "cell_type": "code",
   "execution_count": null,
   "id": "7cc666ba-7303-4b3e-9ae1-de881f01ca51",
   "metadata": {},
   "outputs": [],
   "source": [
    "salary_train.isna().sum()"
   ]
  },
  {
   "cell_type": "code",
   "execution_count": null,
   "id": "77204c55-beba-4624-a1c0-af0e7cdb6869",
   "metadata": {},
   "outputs": [],
   "source": [
    "sns.pairplot(salary_train, hue='Salary')"
   ]
  },
  {
   "cell_type": "code",
   "execution_count": null,
   "id": "a5b4aabb-eb75-404d-aa30-34c19f9a0e14",
   "metadata": {},
   "outputs": [],
   "source": [
    "plt.figure(figsize = (18, 8));\n",
    "sns.heatmap(salary_train.corr(), cmap='magma', annot=True, fmt=\".3f\")\n",
    "plt.show()"
   ]
  },
  {
   "cell_type": "markdown",
   "id": "d4ac5007-b77e-4196-9f44-a5991aad81c9",
   "metadata": {},
   "source": [
    "### Test Dataset:"
   ]
  },
  {
   "cell_type": "code",
   "execution_count": null,
   "id": "eb5f818a-3c30-4ae9-bcf1-b45116510d12",
   "metadata": {},
   "outputs": [],
   "source": [
    "s2_test = pd.read_csv('SalaryData_Test(1).csv')\n",
    "s2_test"
   ]
  },
  {
   "cell_type": "code",
   "execution_count": null,
   "id": "854b6dde-2083-44f1-9ebd-ffb3cd40a25d",
   "metadata": {},
   "outputs": [],
   "source": [
    "salary_test = s2_test.drop_duplicates()\n",
    "salary_test"
   ]
  },
  {
   "cell_type": "markdown",
   "id": "d0121717-a6ac-4ff3-b79f-c658f1ce2ebb",
   "metadata": {},
   "source": [
    "#### Label Encoding"
   ]
  },
  {
   "cell_type": "code",
   "execution_count": null,
   "id": "26a87ba5-4ea4-486b-9051-e9f87e7aa96d",
   "metadata": {},
   "outputs": [],
   "source": [
    "from sklearn import preprocessing\n",
    "label_encoder = preprocessing.LabelEncoder()\n",
    "salary_test['workclass']= label_encoder.fit_transform(salary_test['workclass']) \n",
    "salary_test['education']= label_encoder.fit_transform(salary_test['education'])\n",
    "salary_test['maritalstatus']= label_encoder.fit_transform(salary_test['maritalstatus'])\n",
    "salary_test['occupation']= label_encoder.fit_transform(salary_test['occupation'])\n",
    "salary_test['relationship']= label_encoder.fit_transform(salary_test['relationship'])\n",
    "salary_test['race']= label_encoder.fit_transform(salary_test['race'])\n",
    "salary_test['sex']= label_encoder.fit_transform(salary_test['sex'])\n",
    "salary_test['native']= label_encoder.fit_transform(salary_test['native'])\n",
    "salary_test['Salary']= label_encoder.fit_transform(salary_test['Salary'])"
   ]
  },
  {
   "cell_type": "code",
   "execution_count": null,
   "id": "886997ef-dc65-46da-bb6d-34a31bc8b9d8",
   "metadata": {},
   "outputs": [],
   "source": [
    "salary_test"
   ]
  },
  {
   "cell_type": "code",
   "execution_count": null,
   "id": "ed53f056-0073-4a4f-b1fe-db1a3239f126",
   "metadata": {},
   "outputs": [],
   "source": [
    "salary_test.info()"
   ]
  },
  {
   "cell_type": "code",
   "execution_count": null,
   "id": "20d8eef5-4d20-4868-8702-b2e70d645c8b",
   "metadata": {},
   "outputs": [],
   "source": [
    "salary_test.shape"
   ]
  },
  {
   "cell_type": "code",
   "execution_count": null,
   "id": "cd4ff4a9-d1ef-4f70-845e-e02347cb84d0",
   "metadata": {},
   "outputs": [],
   "source": [
    "salary_test.isna().sum()"
   ]
  },
  {
   "cell_type": "code",
   "execution_count": null,
   "id": "4cd4c12a-4b88-4ef7-8357-6f6edb485675",
   "metadata": {},
   "outputs": [],
   "source": [
    "sns.pairplot(salary_test, hue='Salary')"
   ]
  },
  {
   "cell_type": "code",
   "execution_count": null,
   "id": "bfa9817b-38b5-4ad1-bbfd-f640202c7951",
   "metadata": {},
   "outputs": [],
   "source": [
    "plt.figure(figsize = (21, 7));\n",
    "sns.heatmap(salary_test.corr(), cmap='magma', annot=True, fmt=\".3f\")\n",
    "plt.show()"
   ]
  },
  {
   "cell_type": "markdown",
   "id": "6c74ae76-bdfe-4d48-a239-75e64c7b1e46",
   "metadata": {},
   "source": [
    "#### Applying Train and Test split on Salary Dataset:"
   ]
  },
  {
   "cell_type": "code",
   "execution_count": null,
   "id": "636b8a1a-55c1-460e-ad93-69d361a822b6",
   "metadata": {},
   "outputs": [],
   "source": [
    "x_train = salary_train.iloc[:,0:13]\n",
    "y_train = salary_train.iloc[:,-1]   #last column is -1"
   ]
  },
  {
   "cell_type": "code",
   "execution_count": null,
   "id": "12b87442-6492-4972-a755-2e5566bd09e6",
   "metadata": {},
   "outputs": [],
   "source": [
    "x_test = salary_test.iloc[:,0:13]\n",
    "y_test = salary_test.iloc[:,-1]"
   ]
  },
  {
   "cell_type": "code",
   "execution_count": null,
   "id": "4f9ed927-ba19-4fc8-b5b4-7906352bb8ea",
   "metadata": {},
   "outputs": [],
   "source": [
    "#x_train, x_test, y_train, y_test = train_test_split(X,Y, test_size = 0.3)"
   ]
  },
  {
   "cell_type": "code",
   "execution_count": null,
   "id": "01f8106b-755d-4a02-9d03-554eba019288",
   "metadata": {},
   "outputs": [],
   "source": [
    "x_train.shape, y_train.shape, x_test.shape, y_test.shape"
   ]
  },
  {
   "cell_type": "markdown",
   "id": "76026c67-33c0-4c79-a735-7c678fe415ed",
   "metadata": {
    "id": "VejCDqsUIkUN"
   },
   "source": [
    "### Using SVC :"
   ]
  },
  {
   "cell_type": "markdown",
   "id": "20d2ea46-562c-45d5-939b-9385f9b68eb4",
   "metadata": {},
   "source": [
    "#### 1) kernal = rbf"
   ]
  },
  {
   "cell_type": "code",
   "execution_count": null,
   "id": "a7bee71f-6770-494c-9731-cbef130a0f94",
   "metadata": {},
   "outputs": [],
   "source": [
    "model_rbf = SVC(kernel = 'rbf')\n",
    "model_rbf.fit(x_train,y_train)\n",
    "pred_test_rbf = model_rbf.predict(x_test)\n",
    "print(\"Accuracy:\", accuracy_score(y_test, pred_test_rbf))"
   ]
  },
  {
   "cell_type": "code",
   "execution_count": null,
   "id": "d376ff3d-20fe-41e1-b620-0d909453de5e",
   "metadata": {},
   "outputs": [],
   "source": [
    "confusion_matrix(y_test, pred_test_rbf)"
   ]
  },
  {
   "cell_type": "markdown",
   "id": "3befce91-f2a1-407e-ae85-da672aad4d25",
   "metadata": {},
   "source": [
    "#### 2) kernal = linear"
   ]
  },
  {
   "cell_type": "code",
   "execution_count": null,
   "id": "a859d236-0887-441b-b6b7-b71f8d0be076",
   "metadata": {},
   "outputs": [],
   "source": [
    "model_linear = SVC(kernel = 'linear')\n",
    "model_linear.fit(x_train,y_train)\n",
    "pred_test_linear = model_linear.predict(x_test)\n",
    "print(\"Accuracy:\", accuracy_score(y_test, pred_test_linear))"
   ]
  },
  {
   "cell_type": "code",
   "execution_count": null,
   "id": "d897af4c-e666-4914-8596-4a27a9c1ffdc",
   "metadata": {},
   "outputs": [],
   "source": [
    "confusion_matrix(y_test, pred_test_linear)"
   ]
  },
  {
   "cell_type": "markdown",
   "id": "c49cf464-c473-4cf3-860c-f57e8b744226",
   "metadata": {},
   "source": [
    "#### 3) kernal = poly"
   ]
  },
  {
   "cell_type": "code",
   "execution_count": null,
   "id": "4b165e0a-b9e1-4c8f-86c7-9f9398f76f43",
   "metadata": {},
   "outputs": [],
   "source": [
    "model_poly = SVC(kernel = 'poly')\n",
    "model_poly.fit(x_train,y_train)\n",
    "pred_test_poly = model_poly.predict(x_test)\n",
    "print(\"Accuracy:\", accuracy_score(y_test, pred_test_poly))"
   ]
  },
  {
   "cell_type": "code",
   "execution_count": null,
   "id": "59461f94-8403-405d-b20f-27e4e41c264d",
   "metadata": {},
   "outputs": [],
   "source": [
    "confusion_matrix(y_test, pred_test_poly)"
   ]
  },
  {
   "cell_type": "markdown",
   "id": "96a09ec1-415b-4807-81b9-cad5e6b9ebab",
   "metadata": {},
   "source": [
    "#### 4) kernal = sigmoid"
   ]
  },
  {
   "cell_type": "code",
   "execution_count": null,
   "id": "2ab3e9ac-a6ea-4ede-9f8b-1a8434d46404",
   "metadata": {},
   "outputs": [],
   "source": [
    "model_sigmoid = SVC(kernel = 'sigmoid')\n",
    "model_sigmoid.fit(x_train,y_train)\n",
    "pred_test_sigmoid = model_sigmoid.predict(x_test)\n",
    "print(\"Accuracy:\", accuracy_score(y_test, pred_test_sigmoid))"
   ]
  },
  {
   "cell_type": "code",
   "execution_count": null,
   "id": "c53a8510-bfdd-4b4c-918a-c3bd472cb409",
   "metadata": {},
   "outputs": [],
   "source": [
    "confusion_matrix(y_test, pred_test_sigmoid)"
   ]
  },
  {
   "cell_type": "markdown",
   "id": "ff514f35-f2ae-4978-8f04-92a703a2730f",
   "metadata": {},
   "source": [
    "#### Using Grid Search CV :"
   ]
  },
  {
   "cell_type": "markdown",
   "id": "1020e1b6-f985-438a-9f55-b316bbd74ee5",
   "metadata": {
    "tags": []
   },
   "source": [
    "#### 1) kernal = rbf"
   ]
  },
  {
   "cell_type": "code",
   "execution_count": null,
   "id": "46827b1b-5bc5-4764-9e64-47c3fddd7aaa",
   "metadata": {},
   "outputs": [],
   "source": [
    "class1 = SVC()\n",
    "param_grid1 = [{'kernel':['rbf'], 'gamma': [50,5,0.5], 'C':[15,12,7,3,0.1,0.0001]}]\n",
    "gscv1 = GridSearchCV(class1,param_grid1,cv=10)\n",
    "gscv1.fit(x_train, y_train)"
   ]
  },
  {
   "cell_type": "code",
   "execution_count": null,
   "id": "9dacdc33-0957-4c09-b590-1fa5a2c7ebf4",
   "metadata": {},
   "outputs": [],
   "source": [
    "gscv1.best_params_, gscv1.best_score_"
   ]
  },
  {
   "cell_type": "code",
   "execution_count": null,
   "id": "a39206a3-2498-42e3-a575-c233361f1254",
   "metadata": {},
   "outputs": [],
   "source": [
    "c1 = SVC(C=15, gamma = 0.5)\n",
    "c1.fit(x_train, y_train)\n",
    "y_pred1 = c1.predict(x_test) \n",
    "acc1 = accuracy_score(y_test, y_pred1)*100\n",
    "print(\"Accuracy:\", acc1)"
   ]
  },
  {
   "cell_type": "markdown",
   "id": "3ec4fbd5-7dc8-4f25-a566-7de66d426f39",
   "metadata": {
    "tags": []
   },
   "source": [
    "#### 2) kernal = linear"
   ]
  },
  {
   "cell_type": "code",
   "execution_count": null,
   "id": "b620f515-fad8-479d-9dd1-f753b870f3ce",
   "metadata": {},
   "outputs": [],
   "source": [
    "class2 = SVC()\n",
    "param_grid2 = [{'kernel':['linear'], 'gamma': [40,5,0.5], 'C':[15,11,7,2,0.1,0.0001]}]\n",
    "gscv2 = GridSearchCV(class2,param_grid2,cv=10)\n",
    "gscv2.fit(x_train, y_train)"
   ]
  },
  {
   "cell_type": "code",
   "execution_count": null,
   "id": "be220525-9d12-4bd9-bf2f-6e00cd1d1105",
   "metadata": {},
   "outputs": [],
   "source": [
    "gscv2.best_params_, gscv2.best_score_"
   ]
  },
  {
   "cell_type": "code",
   "execution_count": null,
   "id": "40a2a149-7f5a-4964-a2ba-47788e38de7c",
   "metadata": {},
   "outputs": [],
   "source": [
    "c2 = SVC(C=11, gamma = 0.5)\n",
    "c2.fit(x_train, y_train)\n",
    "y_pred2 = c2.predict(x_test) \n",
    "acc2 = accuracy_score(y_test, y_pred2)*100\n",
    "print(\"Accuracy:\", acc2)"
   ]
  },
  {
   "cell_type": "markdown",
   "id": "bd8acc73-0941-4c13-8ae8-09aa0d1c21e8",
   "metadata": {
    "tags": []
   },
   "source": [
    "#### 3) kernal = poly"
   ]
  },
  {
   "cell_type": "code",
   "execution_count": null,
   "id": "333ec2f5-8ee3-45c4-b6b1-df3ce6ecf15a",
   "metadata": {},
   "outputs": [],
   "source": [
    "class3 = SVC()\n",
    "param_grid3 = [{'kernel':['poly'], 'gamma': [45,5,0.5,0.1], 'C':[15,10,5,3,0.1,0.0001]}]\n",
    "gscv3 = GridSearchCV(class3,param_grid3,cv=10)\n",
    "gscv3.fit(x_train, y_train)"
   ]
  },
  {
   "cell_type": "code",
   "execution_count": null,
   "id": "66f5ca3d-305f-47c3-8f6d-bbcac8a2762c",
   "metadata": {},
   "outputs": [],
   "source": [
    "gscv3.best_params_, gscv3.best_score_"
   ]
  },
  {
   "cell_type": "code",
   "execution_count": null,
   "id": "fdeb8ea0-bdf6-41e3-9089-71ba78541dba",
   "metadata": {},
   "outputs": [],
   "source": [
    "c3 = SVC(C=15, gamma = 0.1)\n",
    "c3.fit(x_train, y_train)\n",
    "y_pred3 = c3.predict(x_test) \n",
    "acc3 = accuracy_score(y_test, y_pred3)*100\n",
    "print(\"Accuracy:\", acc3)"
   ]
  },
  {
   "cell_type": "markdown",
   "id": "f44ff456-6916-49f8-b733-5c98cbe5e409",
   "metadata": {
    "tags": []
   },
   "source": [
    "#### 4) kernal = sigmoid"
   ]
  },
  {
   "cell_type": "code",
   "execution_count": null,
   "id": "9eec4cc9-30a4-499b-b8ce-8492f83ce624",
   "metadata": {},
   "outputs": [],
   "source": [
    "class4 = SVC()\n",
    "param_grid4 = [{'kernel':['sigmoid'], 'gamma': [50,5,0.5], 'C':[15,12,7,0.1,0.0001]}]\n",
    "gscv4 = GridSearchCV(class4,param_grid4,cv=10)\n",
    "gscv4.fit(x_train, y_train)"
   ]
  },
  {
   "cell_type": "code",
   "execution_count": null,
   "id": "bddc19f2-1ead-4462-bcb3-a45ce6bacb6b",
   "metadata": {},
   "outputs": [],
   "source": [
    "gscv4.best_params_, gscv4.best_score_"
   ]
  },
  {
   "cell_type": "code",
   "execution_count": null,
   "id": "f5b40c98-e1f5-405f-8742-1c5b9e89f9b4",
   "metadata": {},
   "outputs": [],
   "source": [
    "c4 = SVC(C=15, gamma = 0.5)\n",
    "c4.fit(x_train, y_train)\n",
    "y_pred4 = c4.predict(x_test) \n",
    "acc4 = accuracy_score(y_test, y_pred4)*100\n",
    "print(\"Accuracy:\", acc4)"
   ]
  }
 ],
 "metadata": {
  "kernelspec": {
   "display_name": "Python 3 (ipykernel)",
   "language": "python",
   "name": "python3"
  },
  "language_info": {
   "codemirror_mode": {
    "name": "ipython",
    "version": 3
   },
   "file_extension": ".py",
   "mimetype": "text/x-python",
   "name": "python",
   "nbconvert_exporter": "python",
   "pygments_lexer": "ipython3",
   "version": "3.9.13"
  }
 },
 "nbformat": 4,
 "nbformat_minor": 5
}
